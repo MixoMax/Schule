{
 "cells": [
  {
   "attachments": {},
   "cell_type": "markdown",
   "metadata": {},
   "source": [
    "# Vektoren Python Notebook\n",
    "---"
   ]
  },
  {
   "cell_type": "code",
   "execution_count": null,
   "metadata": {},
   "outputs": [],
   "source": [
    "if 0 == 0:\n",
    "    import math\n",
    "    import numpy as np\n",
    "    \n",
    "    class Vec():\n",
    "        def __init__(self, x, y, z=0):\n",
    "            self.x = x\n",
    "            self.y = y\n",
    "            self.z = z\n",
    "        \n",
    "        def __len__(self):\n",
    "            return math.sqrt(self.x**2 + self.y**2 + self.z**2)\n",
    "\n",
    "        def __add__(self, other):\n",
    "            return Vec(self.x + other.x, self.y + other.y, self.z + other.z)\n",
    "        \n",
    "        def __sub__(self, other):\n",
    "            return Vec(self.x - other.x, self.y - other.y, self.z - other.z)\n",
    "        \n",
    "        def __mul__(self, other):\n",
    "            if type(other) == Vec:\n",
    "                return self.x*other.x + self.y*other.y + self.z*other.z\n",
    "            elif type(other) == int or type(other) == float:\n",
    "                return Vec(self.x*other, self.y*other, self.z*other)\n",
    "        \n",
    "        def __trudiv__(self, other):\n",
    "            if type(other) == int or type(other) == float:\n",
    "                return Vec(self.x/other, self.y/other, self.z/other)\n",
    "            elif type(other) == Vec:\n",
    "                return self.x/other.x + self.y/other.y + self.z/other.z\n",
    "        \n",
    "        def __str__(self):\n",
    "            return f\"({self.x}, {self.y}, {self.z})\"\n",
    "        \n",
    "        def sum(self):\n",
    "            return self.x + self.y + self.z"
   ]
  },
  {
   "attachments": {},
   "cell_type": "markdown",
   "metadata": {},
   "source": [
    "## Vektoren\n",
    "\n",
    "|Input|Beschreibung|\n",
    "|:---|:---|\n",
    "|Vektor 1|Vektor 1|\n",
    "|Vektor 2|Vektor 2|"
   ]
  },
  {
   "cell_type": "code",
   "execution_count": 6,
   "metadata": {},
   "outputs": [],
   "source": [
    "v1 = input(\"Vektor 1: \").replace(\",\", \".\")\n",
    "\n",
    "v1 = v1.split(\";\")\n",
    "\n",
    "v1 = Vec(float(v1[0]), float(v1[1]), float(v1[2]))\n",
    "\n",
    "v2 = input(\"Vektor 2: \").replace(\",\", \".\")\n",
    "\n",
    "v2 = v2.split(\";\")\n",
    "\n",
    "v2 = Vec(float(v2[0]), float(v2[1]), float(v2[2]))"
   ]
  },
  {
   "cell_type": "code",
   "execution_count": 11,
   "metadata": {},
   "outputs": [
    {
     "name": "stdout",
     "output_type": "stream",
     "text": [
      "(2.0, 2.6666666666666665, 1.3333333333333333)\n"
     ]
    }
   ],
   "source": [
    "v1 = Vec(3 , 4 , -1)\n",
    "v2 = Vec(5, -3, 3)\n",
    "\n",
    "r = v1"
   ]
  }
 ],
 "metadata": {
  "kernelspec": {
   "display_name": "Python 3",
   "language": "python",
   "name": "python3"
  },
  "language_info": {
   "codemirror_mode": {
    "name": "ipython",
    "version": 3
   },
   "file_extension": ".py",
   "mimetype": "text/x-python",
   "name": "python",
   "nbconvert_exporter": "python",
   "pygments_lexer": "ipython3",
   "version": "3.11.3"
  },
  "orig_nbformat": 4
 },
 "nbformat": 4,
 "nbformat_minor": 2
}
