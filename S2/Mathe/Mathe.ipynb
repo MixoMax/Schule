{
 "cells": [
  {
   "attachments": {},
   "cell_type": "markdown",
   "metadata": {},
   "source": [
    "# Mathe S2 Python Notebook"
   ]
  },
  {
   "attachments": {},
   "cell_type": "markdown",
   "metadata": {},
   "source": [
    "## Imports\n",
    "---"
   ]
  },
  {
   "cell_type": "code",
   "execution_count": 1,
   "metadata": {},
   "outputs": [],
   "source": [
    "import math\n",
    "import numpy as np\n",
    "import matplotlib.pyplot as plt"
   ]
  },
  {
   "attachments": {},
   "cell_type": "markdown",
   "metadata": {},
   "source": [
    "## Schnittpunkte von Geraden und Parabeln\n",
    "---"
   ]
  },
  {
   "cell_type": "code",
   "execution_count": null,
   "metadata": {},
   "outputs": [],
   "source": [
    "f1 = input(\"Enter the first function: \")\n",
    "f2 = input(\"Enter the second function: \")\n",
    "\n"
   ]
  },
  {
   "attachments": {},
   "cell_type": "markdown",
   "metadata": {},
   "source": [
    "# Kreuzprodukt"
   ]
  },
  {
   "attachments": {},
   "cell_type": "markdown",
   "metadata": {},
   "source": [
    "$\\begin pmatrix} a \\\\ b \\\\ c \\end pmatrix} \\times \\begin pmatrix} d \\\\ e \\\\ f \\end pmatrix} = \\begin pmatrix} bf - ce \\\\ cd - af \\\\ ae - bd \\end pmatrix}$"
   ]
  },
  {
   "cell_type": "code",
   "execution_count": 1,
   "metadata": {},
   "outputs": [
    {
     "ename": "ValueError",
     "evalue": "could not convert string to float: ''",
     "output_type": "error",
     "traceback": [
      "\u001b[1;31m---------------------------------------------------------------------------\u001b[0m",
      "\u001b[1;31mValueError\u001b[0m                                Traceback (most recent call last)",
      "Cell \u001b[1;32mIn[1], line 5\u001b[0m\n\u001b[0;32m      1\u001b[0m a, b, c \u001b[39m=\u001b[39m \u001b[39minput\u001b[39m(\u001b[39m\"\u001b[39m\u001b[39ma: \u001b[39m\u001b[39m\"\u001b[39m), \u001b[39minput\u001b[39m(\u001b[39m\"\u001b[39m\u001b[39mb: \u001b[39m\u001b[39m\"\u001b[39m), \u001b[39minput\u001b[39m(\u001b[39m\"\u001b[39m\u001b[39mc: \u001b[39m\u001b[39m\"\u001b[39m)\n\u001b[0;32m      3\u001b[0m d, e, f \u001b[39m=\u001b[39m \u001b[39minput\u001b[39m(\u001b[39m\"\u001b[39m\u001b[39md: \u001b[39m\u001b[39m\"\u001b[39m), \u001b[39minput\u001b[39m(\u001b[39m\"\u001b[39m\u001b[39me: \u001b[39m\u001b[39m\"\u001b[39m), \u001b[39minput\u001b[39m(\u001b[39m\"\u001b[39m\u001b[39mf: \u001b[39m\u001b[39m\"\u001b[39m)\n\u001b[1;32m----> 5\u001b[0m a, b, c, d, e, f \u001b[39m=\u001b[39m \u001b[39mfloat\u001b[39;49m(a), \u001b[39mfloat\u001b[39m(b), \u001b[39mfloat\u001b[39m(c), \u001b[39mfloat\u001b[39m(d), \u001b[39mfloat\u001b[39m(e), \u001b[39mfloat\u001b[39m(f)\n\u001b[0;32m      7\u001b[0m x1 \u001b[39m=\u001b[39m b \u001b[39m*\u001b[39m f \u001b[39m-\u001b[39m c \u001b[39m*\u001b[39m e\n\u001b[0;32m      8\u001b[0m x2 \u001b[39m=\u001b[39m c \u001b[39m*\u001b[39m d \u001b[39m-\u001b[39m a \u001b[39m*\u001b[39m f\n",
      "\u001b[1;31mValueError\u001b[0m: could not convert string to float: ''"
     ]
    }
   ],
   "source": [
    "a, b, c = input(\"a: \"), input(\"b: \"), input(\"c: \")\n",
    "\n",
    "d, e, f = input(\"d: \"), input(\"e: \"), input(\"f: \")\n",
    "\n",
    "a, b, c, d, e, f = float(a), float(b), float(c), float(d), float(e), float(f)\n",
    "\n",
    "x1 = b * f - c * e\n",
    "x2 = c * d - a * f\n",
    "x3 = a * e - b * d\n",
    "\n",
    "print(x1, x2, x3)"
   ]
  }
 ],
 "metadata": {
  "kernelspec": {
   "display_name": "Python 3",
   "language": "python",
   "name": "python3"
  },
  "language_info": {
   "codemirror_mode": {
    "name": "ipython",
    "version": 3
   },
   "file_extension": ".py",
   "mimetype": "text/x-python",
   "name": "python",
   "nbconvert_exporter": "python",
   "pygments_lexer": "ipython3",
   "version": "3.11.3"
  },
  "orig_nbformat": 4
 },
 "nbformat": 4,
 "nbformat_minor": 2
}
