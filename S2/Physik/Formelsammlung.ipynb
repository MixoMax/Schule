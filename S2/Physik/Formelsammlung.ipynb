{
 "cells": [
  {
   "cell_type": "code",
   "execution_count": 2,
   "metadata": {},
   "outputs": [],
   "source": [
    "import math\n",
    "sqrt = math.sqrt\n",
    "pi = math.pi\n",
    "sin = math.sin"
   ]
  },
  {
   "attachments": {},
   "cell_type": "markdown",
   "metadata": {},
   "source": [
    "# Formelsammlung Physik\n",
    "\n",
    "---\n",
    "\n",
    "## Inhalt\n",
    "\n",
    "- [Lorentz-Kraft](#Lorentz-kraft)\n",
    "\n",
    "---"
   ]
  },
  {
   "attachments": {},
   "cell_type": "markdown",
   "metadata": {},
   "source": [
    "# Lorentz-Kraft\n",
    "\n",
    "Defenition:\n",
    "\n",
    "> Wird ein Ladungsträger senkrecht zu einem Magnetfeld bewegt, so erfährt er eine Ablenkung, deren Richtung wiederum Senkrecht auf beide andere Richtungen Steht\n",
    "\n",
    "| Formelzeichen |Einheit | Bedeutung |\n",
    "|:---:|:---:|:---:|\n",
    "| F |Newton | Kraft |\n",
    "| q | Coulomb | Ladung |\n",
    "| v | m/s | Geschwindigkeit |\n",
    "| B | Tesla | Magnetfeldstärke |\n",
    "| α | Bogenmaß | Winkel zwischen Bewegungsrichtung und Magnetfeldrichtung |\n"
   ]
  },
  {
   "cell_type": "code",
   "execution_count": 4,
   "metadata": {},
   "outputs": [
    {
     "name": "stdout",
     "output_type": "stream",
     "text": [
      "F =  -4.540814971847569\n"
     ]
    }
   ],
   "source": [
    "q, v, B, alpha = float(input(\"q\")), float(input(\"v\")), float(input(\"B\")), float(input(\"alpha\"))\n",
    "\n",
    "F = q * v * B * sin(alpha)\n",
    "\n",
    "print(\"F = \", F)"
   ]
  },
  {
   "attachments": {},
   "cell_type": "markdown",
   "metadata": {},
   "source": [
    "# Kreisbewegung mit Bahnradius\n",
    "\n",
    "| Formelzeichen |Einheit | Bedeutung |\n",
    "|---|---|--- |\n",
    "| r | m | Bahnradius |\n",
    "| m | kg | Masse des Teilchens |\n",
    "| q | Coulomb | Ladung des Teilchens |\n",
    "| v | m/s | Geschwindigkeit des Teilchens |\n",
    "| B | Tesla | Magnetfeldstärke |"
   ]
  },
  {
   "cell_type": "code",
   "execution_count": null,
   "metadata": {},
   "outputs": [],
   "source": [
    "m, q, v, b = float(input(\"m\")), float(input(\"q\")), float(input(\"v\")), float(input(\"b\"))\n",
    "\n",
    "r = (m/q)*(v/B)\n",
    "\n",
    "print(\"r = \", r)"
   ]
  },
  {
   "attachments": {},
   "cell_type": "markdown",
   "metadata": {},
   "source": [
    "# Federschwinger\n",
    "\n",
    "$$T = 2 * pi * \\sqrt(M/D)$$\n",
    "\n",
    "| Formelzeichen |Einheit | Bedeutung |\n",
    "|---|---|--- |\n",
    "| M | kg | Masse des Teilchens |\n",
    "| D | N/m | Federkonstante |\n",
    "| T | s | Periodendauer |"
   ]
  },
  {
   "cell_type": "code",
   "execution_count": 1,
   "metadata": {},
   "outputs": [
    {
     "ename": "NameError",
     "evalue": "name 'pi' is not defined",
     "output_type": "error",
     "traceback": [
      "\u001b[0;31m---------------------------------------------------------------------------\u001b[0m",
      "\u001b[0;31mNameError\u001b[0m                                 Traceback (most recent call last)",
      "Cell \u001b[0;32mIn[1], line 4\u001b[0m\n\u001b[1;32m      1\u001b[0m M \u001b[39m=\u001b[39m \u001b[39mfloat\u001b[39m(\u001b[39minput\u001b[39m(\u001b[39m\"\u001b[39m\u001b[39mM\u001b[39m\u001b[39m\"\u001b[39m))\n\u001b[1;32m      2\u001b[0m D \u001b[39m=\u001b[39m \u001b[39mfloat\u001b[39m(\u001b[39minput\u001b[39m(\u001b[39m\"\u001b[39m\u001b[39mD\u001b[39m\u001b[39m\"\u001b[39m))\n\u001b[0;32m----> 4\u001b[0m T \u001b[39m=\u001b[39m \u001b[39m2\u001b[39m \u001b[39m*\u001b[39m pi \u001b[39m*\u001b[39m sqrt(M\u001b[39m/\u001b[39mD)\n\u001b[1;32m      6\u001b[0m \u001b[39mprint\u001b[39m(\u001b[39m\"\u001b[39m\u001b[39mT = \u001b[39m\u001b[39m\"\u001b[39m, T)\n",
      "\u001b[0;31mNameError\u001b[0m: name 'pi' is not defined"
     ]
    }
   ],
   "source": [
    "M = float(input(\"M\"))\n",
    "D = float(input(\"D\"))\n",
    "\n",
    "T = 2 * pi * sqrt(M/D)\n",
    "\n",
    "print(\"T = \", T)"
   ]
  },
  {
   "attachments": {},
   "cell_type": "markdown",
   "metadata": {},
   "source": [
    "# Wellengleichung\n",
    "\n",
    "$$y(t,x) = y_{max} * sin(2 \\pi ({t \\over T} - {x \\over \\lambda}))$$\n",
    "\n",
    "| Formelzeichen |Einheit | Bedeutung |\n",
    "|---|---|--- |\n",
    "| t | s | Zeit |\n",
    "| x | m | Ort |\n",
    "| y | m | Auslenkung |\n",
    "| $y_{max}$ | m | Amplitude bzw. Maximalauslenkung |\n",
    "| T | s | Periodendauer |\n",
    "| $\\lambda$ | m | Wellenlänge |"
   ]
  },
  {
   "cell_type": "code",
   "execution_count": 3,
   "metadata": {},
   "outputs": [
    {
     "name": "stdout",
     "output_type": "stream",
     "text": [
      "y =  0.0\n"
     ]
    }
   ],
   "source": [
    "y_max = float(input(\"y_max\"))\n",
    "T = float(input(\"T\"))\n",
    "lam = float(input(\"lambda\"))\n",
    "\n",
    "x = float(input(\"x\"))\n",
    "t = float(input(\"t\"))\n",
    "\n",
    "def y(x, t):\n",
    "    return y_max * sin(2*pi*(x/lam - t/T))\n",
    "\n",
    "print(\"y = \", y(x, t))"
   ]
  }
 ],
 "metadata": {
  "kernelspec": {
   "display_name": "Python 3",
   "language": "python",
   "name": "python3"
  },
  "language_info": {
   "codemirror_mode": {
    "name": "ipython",
    "version": 3
   },
   "file_extension": ".py",
   "mimetype": "text/x-python",
   "name": "python",
   "nbconvert_exporter": "python",
   "pygments_lexer": "ipython3",
   "version": "3.11.3"
  },
  "orig_nbformat": 4
 },
 "nbformat": 4,
 "nbformat_minor": 2
}
