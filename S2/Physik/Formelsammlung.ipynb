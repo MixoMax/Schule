{
 "cells": [
  {
   "cell_type": "code",
   "execution_count": 3,
   "metadata": {},
   "outputs": [],
   "source": [
    "import math"
   ]
  },
  {
   "attachments": {},
   "cell_type": "markdown",
   "metadata": {},
   "source": [
    "# Formelsammlung Physik\n",
    "\n",
    "---\n",
    "\n",
    "## Inhalt\n",
    "\n",
    "- [Lorentz-Kraft](#Lorentz-kraft)\n",
    "\n",
    "---"
   ]
  },
  {
   "attachments": {},
   "cell_type": "markdown",
   "metadata": {},
   "source": [
    "# Lorentz-Kraft\n",
    "\n",
    "Defenition:\n",
    "\n",
    "> Wird ein Ladungsträger senkrecht zu einem Magnetfeld bewegt, so erfährt er eine Ablenkung, deren Richtung wiederum Senkrecht auf beide andere Richtungen Steht\n",
    "\n",
    "| Formelzeichen |Einheit | Bedeutung |\n",
    "|:---:|:---:|:---:|\n",
    "| F |Newton | Kraft |\n",
    "| q | Coulomb | Ladung |\n",
    "| v | m/s | Geschwindigkeit |\n",
    "| B | Tesla | Magnetfeldstärke |\n",
    "| α | Bogenmaß | Winkel zwischen Bewegungsrichtung und Magnetfeldrichtung |\n"
   ]
  },
  {
   "cell_type": "code",
   "execution_count": 4,
   "metadata": {},
   "outputs": [
    {
     "name": "stdout",
     "output_type": "stream",
     "text": [
      "F =  -4.540814971847569\n"
     ]
    }
   ],
   "source": [
    "q, v, B, alpha = float(input(\"q\")), float(input(\"v\")), float(input(\"B\")), float(input(\"alpha\"))\n",
    "\n",
    "F = q * v * B * math.sin(alpha)\n",
    "\n",
    "print(\"F = \", F)"
   ]
  },
  {
   "attachments": {},
   "cell_type": "markdown",
   "metadata": {},
   "source": [
    "# Kreisbewegung mit Bahnradius\n",
    "\n",
    "| Formelzeichen |Einheit | Bedeutung |\n",
    "|---|---|--- |\n",
    "| r | m | Bahnradius |\n",
    "| m | kg | Masse des Teilchens |\n",
    "| q | Coulomb | Ladung des Teilchens |\n",
    "| v | m/s | Geschwindigkeit des Teilchens |\n",
    "| B | Tesla | Magnetfeldstärke |"
   ]
  },
  {
   "cell_type": "code",
   "execution_count": null,
   "metadata": {},
   "outputs": [],
   "source": [
    "m, q, v, b = float(input(\"m\")), float(input(\"q\")), float(input(\"v\")), float(input(\"b\"))\n",
    "\n",
    "r = (m/q)*(v/B)\n",
    "\n",
    "print(\"r = \", r)"
   ]
  }
 ],
 "metadata": {
  "kernelspec": {
   "display_name": "Python 3",
   "language": "python",
   "name": "python3"
  },
  "language_info": {
   "codemirror_mode": {
    "name": "ipython",
    "version": 3
   },
   "file_extension": ".py",
   "mimetype": "text/x-python",
   "name": "python",
   "nbconvert_exporter": "python",
   "pygments_lexer": "ipython3",
   "version": "3.10.6"
  },
  "orig_nbformat": 4
 },
 "nbformat": 4,
 "nbformat_minor": 2
}
